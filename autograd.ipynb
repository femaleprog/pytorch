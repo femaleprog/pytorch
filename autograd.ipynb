{
  "nbformat": 4,
  "nbformat_minor": 0,
  "metadata": {
    "colab": {
      "provenance": []
    },
    "kernelspec": {
      "name": "python3",
      "display_name": "Python 3"
    },
    "language_info": {
      "name": "python"
    }
  },
  "cells": [
    {
      "cell_type": "code",
      "execution_count": 1,
      "metadata": {
        "id": "TnZ6ZWKRL56j"
      },
      "outputs": [],
      "source": [
        "import torch"
      ]
    },
    {
      "cell_type": "code",
      "source": [
        "x = torch.randn(3, requires_grad = True )\n",
        "print(x)"
      ],
      "metadata": {
        "colab": {
          "base_uri": "https://localhost:8080/"
        },
        "id": "hI7n00UmMM4I",
        "outputId": "6a05498f-41bf-430a-e677-8c93113f29b6"
      },
      "execution_count": 2,
      "outputs": [
        {
          "output_type": "stream",
          "name": "stdout",
          "text": [
            "tensor([-0.3885, -0.1626, -0.6140], requires_grad=True)\n"
          ]
        }
      ]
    },
    {
      "cell_type": "code",
      "source": [
        "y = x+2 #graph is created\n",
        "print(y)"
      ],
      "metadata": {
        "colab": {
          "base_uri": "https://localhost:8080/"
        },
        "id": "LooaRy66MUow",
        "outputId": "cdeeb990-6360-4104-8efc-72d654487e54"
      },
      "execution_count": 3,
      "outputs": [
        {
          "output_type": "stream",
          "name": "stdout",
          "text": [
            "tensor([1.6115, 1.8374, 1.3860], grad_fn=<AddBackward0>)\n"
          ]
        }
      ]
    },
    {
      "cell_type": "code",
      "source": [
        "z = y*y*2\n",
        "print(z)"
      ],
      "metadata": {
        "colab": {
          "base_uri": "https://localhost:8080/"
        },
        "id": "IxdoDtrPOW5A",
        "outputId": "61b25dfc-f6b7-48c7-e578-5d9646513a42"
      },
      "execution_count": 4,
      "outputs": [
        {
          "output_type": "stream",
          "name": "stdout",
          "text": [
            "tensor([5.1939, 6.7518, 3.8419], grad_fn=<MulBackward0>)\n"
          ]
        }
      ]
    },
    {
      "cell_type": "code",
      "source": [
        "z = z.mean()\n",
        "print(z)"
      ],
      "metadata": {
        "colab": {
          "base_uri": "https://localhost:8080/"
        },
        "id": "LwpbHiIiOlSt",
        "outputId": "0084720e-35ac-4654-95d8-bec2536e6dce"
      },
      "execution_count": 7,
      "outputs": [
        {
          "output_type": "stream",
          "name": "stdout",
          "text": [
            "tensor(5.2626, grad_fn=<MeanBackward0>)\n"
          ]
        }
      ]
    },
    {
      "cell_type": "code",
      "source": [
        "z.backward() #dz/dx can only be created for scalar input\n"
      ],
      "metadata": {
        "id": "-wXGhKC3O1tS"
      },
      "execution_count": 8,
      "outputs": []
    },
    {
      "cell_type": "code",
      "source": [
        "print(x.grad)"
      ],
      "metadata": {
        "colab": {
          "base_uri": "https://localhost:8080/"
        },
        "id": "sNcG54rdO80w",
        "outputId": "394b8372-ae50-4b9e-fef7-6dcffe5bde96"
      },
      "execution_count": 9,
      "outputs": [
        {
          "output_type": "stream",
          "name": "stdout",
          "text": [
            "tensor([2.1487, 2.4498, 1.8480])\n"
          ]
        }
      ]
    },
    {
      "cell_type": "code",
      "source": [
        "#v = torch.tensor([0.1, 1.0, 0.001], dtype = torch.float32)"
      ],
      "metadata": {
        "id": "ObpSwUTIPL6w"
      },
      "execution_count": 10,
      "outputs": []
    },
    {
      "cell_type": "markdown",
      "source": [
        "### 3 ways to stop pytorch from calculating grad_fn"
      ],
      "metadata": {
        "id": "RzsyHR1qSCE6"
      }
    },
    {
      "cell_type": "code",
      "source": [
        "# x.requires_grad_(False)\n",
        "# x.detach()\n",
        "# with torch.no_grad()"
      ],
      "metadata": {
        "colab": {
          "base_uri": "https://localhost:8080/"
        },
        "id": "2xTd7NbPRp_L",
        "outputId": "ca8c808d-2a11-4b65-80be-6ab800a7892f"
      },
      "execution_count": 12,
      "outputs": [
        {
          "output_type": "stream",
          "name": "stdout",
          "text": [
            "tensor([-0.3885, -0.1626, -0.6140])\n"
          ]
        }
      ]
    },
    {
      "cell_type": "markdown",
      "source": [
        "### training example"
      ],
      "metadata": {
        "id": "MtlfJbaRVGHx"
      }
    },
    {
      "cell_type": "code",
      "source": [
        "weights = torch.ones(4, requires_grad = True )\n",
        "for epoch in range(2):\n",
        "  model_output = (weights*3).sum()\n",
        "  model_output.backward()\n",
        "  print(weights.grad)\n",
        "  weights.grad.zero_()"
      ],
      "metadata": {
        "colab": {
          "base_uri": "https://localhost:8080/"
        },
        "id": "7XYkEmefRwjZ",
        "outputId": "d0f598ac-725e-4cb2-94c5-ce16e7b264a2"
      },
      "execution_count": 17,
      "outputs": [
        {
          "output_type": "stream",
          "name": "stdout",
          "text": [
            "tensor([3., 3., 3., 3.])\n",
            "tensor([3., 3., 3., 3.])\n"
          ]
        }
      ]
    },
    {
      "cell_type": "code",
      "source": [
        "#optimizer = torch.optim.SGD(weights, lr = 0.01) # stochastic gradient descent\n",
        "#optimizer.step()\n",
        "#optimizer.zero_grad()"
      ],
      "metadata": {
        "id": "LDnLDY02WiVX"
      },
      "execution_count": 19,
      "outputs": []
    },
    {
      "cell_type": "code",
      "source": [
        "#weights = torch.ones(4, requires_grad = True)\n",
        "#z.backward()\n",
        "#weights.grad.zero_()"
      ],
      "metadata": {
        "id": "QGnlxNR2XXCZ"
      },
      "execution_count": 21,
      "outputs": []
    }
  ]
}