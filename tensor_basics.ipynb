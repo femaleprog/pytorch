{
  "cells": [
    {
      "cell_type": "markdown",
      "source": [
        "# Tensor Basics"
      ],
      "metadata": {
        "id": "kBoNhkvsoEJy"
      }
    },
    {
      "cell_type": "code",
      "source": [
        "!pip install torch torchvision\n"
      ],
      "metadata": {
        "id": "A5lcuHOToPiF",
        "outputId": "09095ed0-7009-4bdf-e31a-97457c6c7da7",
        "colab": {
          "base_uri": "https://localhost:8080/"
        }
      },
      "execution_count": 1,
      "outputs": [
        {
          "output_type": "stream",
          "name": "stdout",
          "text": [
            "Requirement already satisfied: torch in /usr/local/lib/python3.10/dist-packages (2.1.0+cu121)\n",
            "Requirement already satisfied: torchvision in /usr/local/lib/python3.10/dist-packages (0.16.0+cu121)\n",
            "Requirement already satisfied: filelock in /usr/local/lib/python3.10/dist-packages (from torch) (3.13.1)\n",
            "Requirement already satisfied: typing-extensions in /usr/local/lib/python3.10/dist-packages (from torch) (4.9.0)\n",
            "Requirement already satisfied: sympy in /usr/local/lib/python3.10/dist-packages (from torch) (1.12)\n",
            "Requirement already satisfied: networkx in /usr/local/lib/python3.10/dist-packages (from torch) (3.2.1)\n",
            "Requirement already satisfied: jinja2 in /usr/local/lib/python3.10/dist-packages (from torch) (3.1.3)\n",
            "Requirement already satisfied: fsspec in /usr/local/lib/python3.10/dist-packages (from torch) (2023.6.0)\n",
            "Requirement already satisfied: triton==2.1.0 in /usr/local/lib/python3.10/dist-packages (from torch) (2.1.0)\n",
            "Requirement already satisfied: numpy in /usr/local/lib/python3.10/dist-packages (from torchvision) (1.23.5)\n",
            "Requirement already satisfied: requests in /usr/local/lib/python3.10/dist-packages (from torchvision) (2.31.0)\n",
            "Requirement already satisfied: pillow!=8.3.*,>=5.3.0 in /usr/local/lib/python3.10/dist-packages (from torchvision) (9.4.0)\n",
            "Requirement already satisfied: MarkupSafe>=2.0 in /usr/local/lib/python3.10/dist-packages (from jinja2->torch) (2.1.5)\n",
            "Requirement already satisfied: charset-normalizer<4,>=2 in /usr/local/lib/python3.10/dist-packages (from requests->torchvision) (3.3.2)\n",
            "Requirement already satisfied: idna<4,>=2.5 in /usr/local/lib/python3.10/dist-packages (from requests->torchvision) (3.6)\n",
            "Requirement already satisfied: urllib3<3,>=1.21.1 in /usr/local/lib/python3.10/dist-packages (from requests->torchvision) (2.0.7)\n",
            "Requirement already satisfied: certifi>=2017.4.17 in /usr/local/lib/python3.10/dist-packages (from requests->torchvision) (2024.2.2)\n",
            "Requirement already satisfied: mpmath>=0.19 in /usr/local/lib/python3.10/dist-packages (from sympy->torch) (1.3.0)\n"
          ]
        }
      ]
    },
    {
      "cell_type": "code",
      "source": [
        "import torch\n",
        "import numpy as np"
      ],
      "metadata": {
        "id": "3J2J-iP1of7L"
      },
      "execution_count": 2,
      "outputs": []
    },
    {
      "cell_type": "code",
      "source": [
        "x = torch.empty(2,2,3)\n",
        "print(x)"
      ],
      "metadata": {
        "id": "PznXElt1oq-B",
        "outputId": "1e8cc399-1114-42d7-be05-27dad9ef3c6e",
        "colab": {
          "base_uri": "https://localhost:8080/"
        }
      },
      "execution_count": 3,
      "outputs": [
        {
          "output_type": "stream",
          "name": "stdout",
          "text": [
            "tensor([[[ 1.2612e-44,  0.0000e+00, -1.1035e+03],\n",
            "         [ 3.0993e-41,  1.5835e-42,  4.3292e-41]],\n",
            "\n",
            "        [[-1.1035e+03,  3.0993e-41,  1.5414e-44],\n",
            "         [ 4.3292e-41,  0.0000e+00,  0.0000e+00]]])\n"
          ]
        }
      ]
    },
    {
      "cell_type": "code",
      "source": [
        "x = torch.rand(2,2)\n",
        "print(x)"
      ],
      "metadata": {
        "id": "_tCqL-HRyDtz",
        "outputId": "cea6d795-298a-47ee-e67f-eaf6cfc971be",
        "colab": {
          "base_uri": "https://localhost:8080/"
        }
      },
      "execution_count": 4,
      "outputs": [
        {
          "output_type": "stream",
          "name": "stdout",
          "text": [
            "tensor([[0.0922, 0.0551],\n",
            "        [0.9590, 0.3364]])\n"
          ]
        }
      ]
    },
    {
      "cell_type": "code",
      "source": [
        "torch.zeros(2,2)"
      ],
      "metadata": {
        "id": "UsLdd2gAyrA5",
        "outputId": "4641b4ce-91f2-4cdf-c7c1-66b4cbf35280",
        "colab": {
          "base_uri": "https://localhost:8080/"
        }
      },
      "execution_count": 5,
      "outputs": [
        {
          "output_type": "execute_result",
          "data": {
            "text/plain": [
              "tensor([[0., 0.],\n",
              "        [0., 0.]])"
            ]
          },
          "metadata": {},
          "execution_count": 5
        }
      ]
    },
    {
      "cell_type": "code",
      "source": [
        "x = torch.ones(2, dtype = torch.float16)"
      ],
      "metadata": {
        "id": "LRZYq6URyyKA"
      },
      "execution_count": 6,
      "outputs": []
    },
    {
      "cell_type": "code",
      "source": [
        "print(x.dtype)"
      ],
      "metadata": {
        "id": "-KS7PCyDy7-Z",
        "outputId": "80ac2246-19cc-4cc5-bf0d-21d725350993",
        "colab": {
          "base_uri": "https://localhost:8080/"
        }
      },
      "execution_count": 7,
      "outputs": [
        {
          "output_type": "stream",
          "name": "stdout",
          "text": [
            "torch.float16\n"
          ]
        }
      ]
    },
    {
      "cell_type": "code",
      "source": [
        "print(x.size())"
      ],
      "metadata": {
        "id": "eWfNRl4dzMKL",
        "outputId": "821c958b-3d3d-425e-e226-f90deeec8959",
        "colab": {
          "base_uri": "https://localhost:8080/"
        }
      },
      "execution_count": 8,
      "outputs": [
        {
          "output_type": "stream",
          "name": "stdout",
          "text": [
            "torch.Size([2])\n"
          ]
        }
      ]
    },
    {
      "cell_type": "code",
      "source": [
        "x = torch.tensor([2.5 , 13], dtype = torch.float16)\n",
        "print(x, x.dtype)"
      ],
      "metadata": {
        "id": "wprYtg9Bz2xG",
        "outputId": "6dd397ac-9622-473c-8cef-b9ff9c8c4d8f",
        "colab": {
          "base_uri": "https://localhost:8080/"
        }
      },
      "execution_count": 9,
      "outputs": [
        {
          "output_type": "stream",
          "name": "stdout",
          "text": [
            "tensor([ 2.5000, 13.0000], dtype=torch.float16) torch.float16\n"
          ]
        }
      ]
    },
    {
      "cell_type": "markdown",
      "source": [
        "## Operations"
      ],
      "metadata": {
        "id": "pLPXqLaU0Wca"
      }
    },
    {
      "cell_type": "code",
      "source": [
        "x = torch.rand(2)\n",
        "y = torch.rand(2)"
      ],
      "metadata": {
        "id": "4eWqCrU1z-yW"
      },
      "execution_count": 10,
      "outputs": []
    },
    {
      "cell_type": "code",
      "source": [
        "z = x+y\n",
        "print(z)"
      ],
      "metadata": {
        "id": "hbOSPSa10hvj",
        "outputId": "5bd8a3d7-e5e1-4408-8af7-4adc2f396fe4",
        "colab": {
          "base_uri": "https://localhost:8080/"
        }
      },
      "execution_count": 11,
      "outputs": [
        {
          "output_type": "stream",
          "name": "stdout",
          "text": [
            "tensor([1.2067, 0.2900])\n"
          ]
        }
      ]
    },
    {
      "cell_type": "code",
      "source": [
        "y.add_(x)\n",
        "print(y)"
      ],
      "metadata": {
        "id": "hxnpid8l0kp8",
        "outputId": "64e1125c-e254-4142-dc71-ce91c101daf0",
        "colab": {
          "base_uri": "https://localhost:8080/"
        }
      },
      "execution_count": 12,
      "outputs": [
        {
          "output_type": "stream",
          "name": "stdout",
          "text": [
            "tensor([1.2067, 0.2900])\n"
          ]
        }
      ]
    },
    {
      "cell_type": "code",
      "source": [
        "z = torch.sub(x,y)\n",
        "z = torch.add(x,y)\n",
        "z = torch.mul(x,y)"
      ],
      "metadata": {
        "id": "fr9FZgT504Rh"
      },
      "execution_count": 13,
      "outputs": []
    },
    {
      "cell_type": "code",
      "source": [
        "y.mul_(x)"
      ],
      "metadata": {
        "id": "87FwlL4_1TFA",
        "outputId": "dc1714de-f9a1-4e62-ae0a-39c6678e583c",
        "colab": {
          "base_uri": "https://localhost:8080/"
        }
      },
      "execution_count": 14,
      "outputs": [
        {
          "output_type": "execute_result",
          "data": {
            "text/plain": [
              "tensor([1.2027, 0.0144])"
            ]
          },
          "metadata": {},
          "execution_count": 14
        }
      ]
    },
    {
      "cell_type": "code",
      "source": [
        "z = x/y\n",
        "z = torch.div(x,y)"
      ],
      "metadata": {
        "id": "WkJovo8s1q7k"
      },
      "execution_count": 15,
      "outputs": []
    },
    {
      "cell_type": "markdown",
      "source": [
        "## Access"
      ],
      "metadata": {
        "id": "uPJ23mqLl6Hs"
      }
    },
    {
      "cell_type": "code",
      "source": [
        "torch.rand(5,3)"
      ],
      "metadata": {
        "id": "Ylg2_Vw81x2M",
        "outputId": "4c43d0c3-3c06-4abe-9a40-1f158eb13a1d",
        "colab": {
          "base_uri": "https://localhost:8080/"
        }
      },
      "execution_count": 16,
      "outputs": [
        {
          "output_type": "execute_result",
          "data": {
            "text/plain": [
              "tensor([[0.4178, 0.6734, 0.1076],\n",
              "        [0.5172, 0.0746, 0.2611],\n",
              "        [0.0831, 0.0586, 0.5764],\n",
              "        [0.0339, 0.7904, 0.0360],\n",
              "        [0.6890, 0.2813, 0.1218]])"
            ]
          },
          "metadata": {},
          "execution_count": 16
        }
      ]
    },
    {
      "cell_type": "code",
      "source": [
        "x = torch.rand(5,3)\n",
        "print(x)\n",
        "print(x[:,0]) #col number 1\n",
        "print(x[0,:]) #row number 1"
      ],
      "metadata": {
        "id": "-OHTJnJsKc0n",
        "outputId": "bb801559-9f3d-43a6-90b8-67d63d90d252",
        "colab": {
          "base_uri": "https://localhost:8080/"
        }
      },
      "execution_count": 17,
      "outputs": [
        {
          "output_type": "stream",
          "name": "stdout",
          "text": [
            "tensor([[0.7601, 0.6719, 0.0741],\n",
            "        [0.8752, 0.1383, 0.3921],\n",
            "        [0.4687, 0.6450, 0.4790],\n",
            "        [0.0033, 0.4324, 0.0170],\n",
            "        [0.0680, 0.3653, 0.4717]])\n",
            "tensor([0.7601, 0.8752, 0.4687, 0.0033, 0.0680])\n",
            "tensor([0.7601, 0.6719, 0.0741])\n"
          ]
        }
      ]
    },
    {
      "cell_type": "code",
      "source": [
        "print(x[1,1].item())"
      ],
      "metadata": {
        "id": "AnSm4zcBk1ec",
        "outputId": "ee6797bf-089e-44eb-bb22-8da5810cf165",
        "colab": {
          "base_uri": "https://localhost:8080/"
        }
      },
      "execution_count": 18,
      "outputs": [
        {
          "output_type": "stream",
          "name": "stdout",
          "text": [
            "0.1382942795753479\n"
          ]
        }
      ]
    },
    {
      "cell_type": "markdown",
      "source": [
        "## Reshaping tensor"
      ],
      "metadata": {
        "id": "worBH278l8bC"
      }
    },
    {
      "cell_type": "code",
      "source": [
        "x = torch.rand(4,4)\n",
        "y = x.view(16)\n",
        "print(y)"
      ],
      "metadata": {
        "id": "pIOvQKp9l-kE",
        "outputId": "896efbc7-2cbb-4ff3-b908-f630d060bbed",
        "colab": {
          "base_uri": "https://localhost:8080/"
        }
      },
      "execution_count": 19,
      "outputs": [
        {
          "output_type": "stream",
          "name": "stdout",
          "text": [
            "tensor([0.7936, 0.2485, 0.7043, 0.0608, 0.0607, 0.2491, 0.6321, 0.9972, 0.3571,\n",
            "        0.1082, 0.4096, 0.3690, 0.3907, 0.4326, 0.5826, 0.3019])\n"
          ]
        }
      ]
    },
    {
      "cell_type": "code",
      "source": [
        "y = x.view(2,8)\n",
        "print(y)"
      ],
      "metadata": {
        "id": "fMRyYwNumIKw",
        "outputId": "046e4c7e-27d6-4958-ec94-af5a5409135a",
        "colab": {
          "base_uri": "https://localhost:8080/"
        }
      },
      "execution_count": 20,
      "outputs": [
        {
          "output_type": "stream",
          "name": "stdout",
          "text": [
            "tensor([[0.7936, 0.2485, 0.7043, 0.0608, 0.0607, 0.2491, 0.6321, 0.9972],\n",
            "        [0.3571, 0.1082, 0.4096, 0.3690, 0.3907, 0.4326, 0.5826, 0.3019]])\n"
          ]
        }
      ]
    },
    {
      "cell_type": "code",
      "source": [
        "y = x.view(-1,8)\n",
        "print(y)"
      ],
      "metadata": {
        "id": "QvihEKbsm1dp",
        "outputId": "749cc766-4f75-4c4a-fffc-aa351e5e3815",
        "colab": {
          "base_uri": "https://localhost:8080/"
        }
      },
      "execution_count": 21,
      "outputs": [
        {
          "output_type": "stream",
          "name": "stdout",
          "text": [
            "tensor([[0.7936, 0.2485, 0.7043, 0.0608, 0.0607, 0.2491, 0.6321, 0.9972],\n",
            "        [0.3571, 0.1082, 0.4096, 0.3690, 0.3907, 0.4326, 0.5826, 0.3019]])\n"
          ]
        }
      ]
    },
    {
      "cell_type": "markdown",
      "source": [
        "## From torch to Numpy"
      ],
      "metadata": {
        "id": "MfvwL9_5nOpd"
      }
    },
    {
      "cell_type": "code",
      "source": [
        "a = torch.ones(5)\n",
        "b = a.numpy()\n",
        "print(a, b)"
      ],
      "metadata": {
        "id": "t50XJQ24nTF7",
        "outputId": "853aefa5-7caa-4d06-8f2a-70d160a56b2a",
        "colab": {
          "base_uri": "https://localhost:8080/"
        }
      },
      "execution_count": 22,
      "outputs": [
        {
          "output_type": "stream",
          "name": "stdout",
          "text": [
            "tensor([1., 1., 1., 1., 1.]) [1. 1. 1. 1. 1.]\n"
          ]
        }
      ]
    },
    {
      "cell_type": "code",
      "source": [
        "a.add_(1)"
      ],
      "metadata": {
        "id": "GqsIVJiEnlDH",
        "outputId": "174e6be9-399d-470d-81e4-42b494a3c529",
        "colab": {
          "base_uri": "https://localhost:8080/"
        }
      },
      "execution_count": 23,
      "outputs": [
        {
          "output_type": "execute_result",
          "data": {
            "text/plain": [
              "tensor([2., 2., 2., 2., 2.])"
            ]
          },
          "metadata": {},
          "execution_count": 23
        }
      ]
    },
    {
      "cell_type": "code",
      "source": [
        "print(b) # a and b share the same memory location"
      ],
      "metadata": {
        "id": "RTMEH-IaoW6j",
        "outputId": "6dc4bfd5-dbe0-4a09-a1c5-9f96855e8b57",
        "colab": {
          "base_uri": "https://localhost:8080/"
        }
      },
      "execution_count": 24,
      "outputs": [
        {
          "output_type": "stream",
          "name": "stdout",
          "text": [
            "[2. 2. 2. 2. 2.]\n"
          ]
        }
      ]
    },
    {
      "cell_type": "markdown",
      "source": [
        "####  it's important to note that both the PyTorch tensor a and the NumPy array b will reference the same underlying data. This means that if you modify the data in the NumPy array b, the corresponding data in the PyTorch tensor a will also be modified, and vice versa."
      ],
      "metadata": {
        "id": "fF7Nt9K6rX9P"
      }
    },
    {
      "cell_type": "code",
      "source": [
        "x = torch.ones(5)\n",
        "y = torch.ones(5)\n",
        "z = x*y\n",
        "z.numpy()"
      ],
      "metadata": {
        "id": "fGt-MDruoYaa",
        "outputId": "934c8f59-2ed6-49ab-dcfc-37e07d7335aa",
        "colab": {
          "base_uri": "https://localhost:8080/"
        }
      },
      "execution_count": 26,
      "outputs": [
        {
          "output_type": "execute_result",
          "data": {
            "text/plain": [
              "array([1., 1., 1., 1., 1.], dtype=float32)"
            ]
          },
          "metadata": {},
          "execution_count": 26
        }
      ]
    },
    {
      "cell_type": "code",
      "source": [
        "x = torch.ones(5, requires_grad=True) # when var will be optimized later"
      ],
      "metadata": {
        "id": "aVoD2mbiqHUQ"
      },
      "execution_count": null,
      "outputs": []
    }
  ],
  "metadata": {
    "colab": {
      "name": "Welcome To Colaboratory",
      "provenance": [],
      "gpuType": "T4"
    },
    "kernelspec": {
      "display_name": "Python 3",
      "name": "python3"
    },
    "accelerator": "GPU"
  },
  "nbformat": 4,
  "nbformat_minor": 0
}